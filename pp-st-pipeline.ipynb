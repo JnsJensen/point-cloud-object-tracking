{
 "cells": [
  {
   "cell_type": "markdown",
   "id": "7fe61b37",
   "metadata": {},
   "source": [
    "# End-to-end object detection and tracking using Point Pillars and Simple Track"
   ]
  },
  {
   "cell_type": "code",
   "execution_count": 13,
   "id": "902d790c",
   "metadata": {},
   "outputs": [
    {
     "name": "stdout",
     "output_type": "stream",
     "text": [
      "[Errno 2] No such file or directory: 'OpenPCDet/tools'\n",
      "/home/cv08f23/point-cloud-object-tracking/OpenPCDet/tools\n",
      "/home/cv08f23/point-cloud-object-tracking/OpenPCDet/tools/demo.py:33: MatplotlibDeprecationWarning: The get_cmap function was deprecated in Matplotlib 3.7 and will be removed two minor releases later. Use ``matplotlib.colormaps[name]`` or ``matplotlib.colormaps.get_cmap(obj)`` instead.\n",
      "  cm_viridis = mpl.cm.get_cmap('viridis')\n",
      "/home/cv08f23/point-cloud-object-tracking/OpenPCDet/tools/demo.py:34: MatplotlibDeprecationWarning: The get_cmap function was deprecated in Matplotlib 3.7 and will be removed two minor releases later. Use ``matplotlib.colormaps[name]`` or ``matplotlib.colormaps.get_cmap(obj)`` instead.\n",
      "  cm_hsv = mpl.cm.get_cmap('hsv')\n",
      "/home/cv08f23/point-cloud-object-tracking/OpenPCDet/tools/demo.py:35: MatplotlibDeprecationWarning: The get_cmap function was deprecated in Matplotlib 3.7 and will be removed two minor releases later. Use ``matplotlib.colormaps[name]`` or ``matplotlib.colormaps.get_cmap(obj)`` instead.\n",
      "  cm_gp2 = mpl.cm.get_cmap('gnuplot2')\n",
      "/home/cv08f23/point-cloud-object-tracking/OpenPCDet/tools/demo.py:36: MatplotlibDeprecationWarning: The get_cmap function was deprecated in Matplotlib 3.7 and will be removed two minor releases later. Use ``matplotlib.colormaps[name]`` or ``matplotlib.colormaps.get_cmap(obj)`` instead.\n",
      "  cm_gistrb = mpl.cm.get_cmap('gist_rainbow')\n",
      "/home/cv08f23/point-cloud-object-tracking/OpenPCDet/tools/demo.py:37: MatplotlibDeprecationWarning: The get_cmap function was deprecated in Matplotlib 3.7 and will be removed two minor releases later. Use ``matplotlib.colormaps[name]`` or ``matplotlib.colormaps.get_cmap(obj)`` instead.\n",
      "  cm_rb = mpl.cm.get_cmap('rainbow')\n",
      "2023-04-14 16:23:08,900   INFO  -----------------Quick Demo of OpenPCDet-------------------------\n",
      "2023-04-14 16:23:08,909   INFO  Total number of samples: \t7518\n",
      "/home/cv08f23/.conda/envs/pcot/lib/python3.10/site-packages/torch/functional.py:504: UserWarning: torch.meshgrid: in an upcoming release, it will be required to pass the indexing argument. (Triggered internally at /opt/conda/conda-bld/pytorch_1678411187366/work/aten/src/ATen/native/TensorShape.cpp:3483.)\n",
      "  return _VF.meshgrid(tensors, **kwargs)  # type: ignore[attr-defined]\n",
      "2023-04-14 16:23:09,560   INFO  ==> Loading parameters from checkpoint /home/cv08f23/pre-trained-models/pointpillars-kitty.pth to CPU\n",
      "2023-04-14 16:23:09,572   INFO  ==> Done (loaded 127/127)\n",
      "2023-04-14 16:23:09,589   INFO  Visualized sample index: \t1\n",
      "2023-04-14 16:23:12,183   INFO  Visualized sample index: \t2\n",
      "2023-04-14 16:23:14,055   INFO  Visualized sample index: \t3\n",
      "2023-04-14 16:23:16,058   INFO  Visualized sample index: \t4\n",
      "2023-04-14 16:23:17,487   INFO  Visualized sample index: \t5\n",
      "2023-04-14 16:23:19,141   INFO  Visualized sample index: \t6\n",
      "2023-04-14 16:23:21,277   INFO  Visualized sample index: \t7\n",
      "2023-04-14 16:23:22,984   INFO  Visualized sample index: \t8\n",
      "2023-04-14 16:23:24,816   INFO  Visualized sample index: \t9\n",
      "2023-04-14 16:23:27,267   INFO  Visualized sample index: \t10\n",
      "2023-04-14 16:23:28,997   INFO  Visualized sample index: \t11\n",
      "/home/cv08f23/point-cloud-object-tracking/OpenPCDet/tools/demo.py:144: RuntimeWarning: More than 20 figures have been opened. Figures created through the pyplot interface (`matplotlib.pyplot.figure`) are retained until explicitly closed and may consume too much memory. (To control this warning, see the rcParam `figure.max_open_warning`). Consider using `matplotlib.pyplot.close()`.\n",
      "  fig1, ax1 = plt.subplots(subplot_kw={\"projection\": \"3d\"}, figsize=(13, 13))\n",
      "2023-04-14 16:23:30,770   INFO  Visualized sample index: \t12\n",
      "2023-04-14 16:23:32,846   INFO  Visualized sample index: \t13\n",
      "^C\n",
      "Traceback (most recent call last):\n",
      "  File \"/home/cv08f23/point-cloud-object-tracking/OpenPCDet/tools/demo.py\", line 209, in <module>\n",
      "    main()\n",
      "  File \"/home/cv08f23/point-cloud-object-tracking/OpenPCDet/tools/demo.py\", line 197, in main\n",
      "    fig1.savefig(f'{home}/results/kitti/point-pillars/{idx + 1}test3D.png', dpi=300)\n",
      "  File \"/home/cv08f23/.conda/envs/pcot/lib/python3.10/site-packages/matplotlib/figure.py\", line 3343, in savefig\n",
      "    self.canvas.print_figure(fname, **kwargs)\n",
      "  File \"/home/cv08f23/.conda/envs/pcot/lib/python3.10/site-packages/matplotlib/backend_bases.py\", line 2366, in print_figure\n",
      "    result = print_method(\n",
      "  File \"/home/cv08f23/.conda/envs/pcot/lib/python3.10/site-packages/matplotlib/backend_bases.py\", line 2232, in <lambda>\n",
      "    print_method = functools.wraps(meth)(lambda *args, **kwargs: meth(\n",
      "  File \"/home/cv08f23/.conda/envs/pcot/lib/python3.10/site-packages/matplotlib/backends/backend_agg.py\", line 509, in print_png\n",
      "    self._print_pil(filename_or_obj, \"png\", pil_kwargs, metadata)\n",
      "  File \"/home/cv08f23/.conda/envs/pcot/lib/python3.10/site-packages/matplotlib/backends/backend_agg.py\", line 458, in _print_pil\n",
      "    mpl.image.imsave(\n",
      "  File \"/home/cv08f23/.conda/envs/pcot/lib/python3.10/site-packages/matplotlib/image.py\", line 1689, in imsave\n",
      "    image.save(fname, **pil_kwargs)\n",
      "  File \"/home/cv08f23/.conda/envs/pcot/lib/python3.10/site-packages/PIL/Image.py\", line 2442, in save\n",
      "    fp.close()\n",
      "KeyboardInterrupt\n"
     ]
    }
   ],
   "source": [
    "# run demo.py\n",
    "#/000008.bin\n",
    "\n",
    "%cd OpenPCDet/tools\n",
    "!python demo.py --cfg_file cfgs/kitti_models/pointpillar.yaml --ckpt ~/pre-trained-models/pointpillars-kitty.pth --data_path ~/datasets/kitti/testing/velodyne"
   ]
  },
  {
   "cell_type": "code",
   "execution_count": null,
   "id": "63852002",
   "metadata": {},
   "outputs": [],
   "source": [
    "# Visualize samples from object detection\n",
    "\n"
   ]
  }
 ],
 "metadata": {
  "kernelspec": {
   "display_name": "pcot",
   "language": "python",
   "name": "python3"
  },
  "language_info": {
   "codemirror_mode": {
    "name": "ipython",
    "version": 3
   },
   "file_extension": ".py",
   "mimetype": "text/x-python",
   "name": "python",
   "nbconvert_exporter": "python",
   "pygments_lexer": "ipython3",
   "version": "3.10.8"
  }
 },
 "nbformat": 4,
 "nbformat_minor": 5
}
