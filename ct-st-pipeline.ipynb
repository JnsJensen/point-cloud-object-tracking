{
 "cells": [
  {
   "attachments": {},
   "cell_type": "markdown",
   "id": "7fe61b37",
   "metadata": {},
   "source": [
    "# End-to-end object detection and tracking using Point Pillars and Simple Track"
   ]
  },
  {
   "attachments": {},
   "cell_type": "markdown",
   "id": "ae529f48",
   "metadata": {},
   "source": [
    "### Using the PointPillars pretrained model on the KITTI test dataset:"
   ]
  },
  {
   "cell_type": "code",
   "execution_count": null,
   "id": "902d790c",
   "metadata": {},
   "outputs": [
    {
     "ename": "",
     "evalue": "",
     "output_type": "error",
     "traceback": [
      "\u001b[1;31mFailed to start the Kernel. \n",
      "\u001b[1;31mUnable to start Kernel 'pcot (Python 3.10.8)' due to connection timeout. \n",
      "\u001b[1;31mView Jupyter <a href='command:jupyter.viewOutput'>log</a> for further details."
     ]
    }
   ],
   "source": [
    "# run PointPillars on KITTI dataset\n",
    "\n",
    "%cd ~/point-cloud-object-tracking/OpenPCDet/tools\n",
    "!python demo.py \\\n",
    "    --cfg_file cfgs/kitti_models/pointpillar.yaml \\\n",
    "    --ckpt ~/pre-trained-models/pointpillars-kitty.pth \\\n",
    "    --data_path ~/datasets/kitti/testing/velodyne  \\\n"
   ]
  },
  {
   "attachments": {},
   "cell_type": "markdown",
   "id": "bd2e040c",
   "metadata": {},
   "source": [
    "#### PointPillar KITTI Detections"
   ]
  },
  {
   "cell_type": "code",
   "execution_count": null,
   "id": "91b4e800",
   "metadata": {},
   "outputs": [],
   "source": [
    "%%bash\n",
    "cd ~/point-cloud-object-tracking/OpenPCDet/tools\n",
    "CKPT=\"$HOME/pre-trained-models/pointpillars-kitty.pth\"\n",
    "CONFIG_FILE=\"./cfgs/kitti_models/pointpillar.yaml\"\n",
    "BATCH_SIZE=32\n",
    "python test.py --cfg_file \"$CONFIG_FILE\" --batch_size \"$BATCH_SIZE\"  --ckpt \"$CKPT\" --cuda_idx 1"
   ]
  },
  {
   "attachments": {},
   "cell_type": "markdown",
   "id": "0199f6be",
   "metadata": {},
   "source": [
    "### Using the PointPillars-multihead pretrained model on the nuScenes test dataset:"
   ]
  },
  {
   "cell_type": "code",
   "execution_count": 5,
   "id": "649128cb",
   "metadata": {},
   "outputs": [
    {
     "name": "stdout",
     "output_type": "stream",
     "text": [
      "/home/cv08f23/point-cloud-object-tracking/SimpleTrack/tools\n",
      "segment-10203656353524179475_7625_000_7645_000_with_camera_labels.npz\n",
      "START TYPE vehicle SEQ 1 / 1\n",
      "TYPE [1] SEQ 1 Frame 1 / 198\n",
      "[<mot_3d.data_protos.bbox.BBox object at 0x7f72b3dbff10>, <mot_3d.data_protos.bbox.BBox object at 0x7f72b3dbfeb0>, <mot_3d.data_protos.bbox.BBox object at 0x7f72b3dbff70>, <mot_3d.data_protos.bbox.BBox object at 0x7f72b3dbffd0>, <mot_3d.data_protos.bbox.BBox object at 0x7f72a85b0850>, <mot_3d.data_protos.bbox.BBox object at 0x7f72a85b0760>, <mot_3d.data_protos.bbox.BBox object at 0x7f72a85b0700>, <mot_3d.data_protos.bbox.BBox object at 0x7f72a85b0820>, <mot_3d.data_protos.bbox.BBox object at 0x7f72a85b07f0>, <mot_3d.data_protos.bbox.BBox object at 0x7f72a85b07c0>, <mot_3d.data_protos.bbox.BBox object at 0x7f72a85b06d0>, <mot_3d.data_protos.bbox.BBox object at 0x7f72a85b0880>, <mot_3d.data_protos.bbox.BBox object at 0x7f72a85b0280>, <mot_3d.data_protos.bbox.BBox object at 0x7f72a85b0370>, <mot_3d.data_protos.bbox.BBox object at 0x7f72a85b01f0>, <mot_3d.data_protos.bbox.BBox object at 0x7f72a85b06a0>, <mot_3d.data_protos.bbox.BBox object at 0x7f72a85b05b0>, <mot_3d.data_protos.bbox.BBox object at 0x7f72a85b0640>, <mot_3d.data_protos.bbox.BBox object at 0x7f72a85b0340>, <mot_3d.data_protos.bbox.BBox object at 0x7f72a85b0460>, <mot_3d.data_protos.bbox.BBox object at 0x7f72a85b0610>, <mot_3d.data_protos.bbox.BBox object at 0x7f72a85b0c40>, <mot_3d.data_protos.bbox.BBox object at 0x7f72a85b0310>, <mot_3d.data_protos.bbox.BBox object at 0x7f72a85b0cd0>, <mot_3d.data_protos.bbox.BBox object at 0x7f72a85b0250>, <mot_3d.data_protos.bbox.BBox object at 0x7f72a85b08b0>, <mot_3d.data_protos.bbox.BBox object at 0x7f72a85b1240>, <mot_3d.data_protos.bbox.BBox object at 0x7f72a85b03d0>, <mot_3d.data_protos.bbox.BBox object at 0x7f72a85b0d60>, <mot_3d.data_protos.bbox.BBox object at 0x7f72a85b0d30>, <mot_3d.data_protos.bbox.BBox object at 0x7f72a85b09d0>, <mot_3d.data_protos.bbox.BBox object at 0x7f72a85b0a90>, <mot_3d.data_protos.bbox.BBox object at 0x7f72a85b11b0>, <mot_3d.data_protos.bbox.BBox object at 0x7f72a85b09a0>]\n",
      "TYPE [1] SEQ 1 Frame 2 / 198\n",
      "[<mot_3d.data_protos.bbox.BBox object at 0x7f72a85b07c0>, <mot_3d.data_protos.bbox.BBox object at 0x7f72a85b06d0>, <mot_3d.data_protos.bbox.BBox object at 0x7f72a85b0880>, <mot_3d.data_protos.bbox.BBox object at 0x7f72a85b0280>, <mot_3d.data_protos.bbox.BBox object at 0x7f72a85b0370>, <mot_3d.data_protos.bbox.BBox object at 0x7f72a85b01f0>, <mot_3d.data_protos.bbox.BBox object at 0x7f72a85b06a0>, <mot_3d.data_protos.bbox.BBox object at 0x7f72a85b05b0>, <mot_3d.data_protos.bbox.BBox object at 0x7f72a85b0640>, <mot_3d.data_protos.bbox.BBox object at 0x7f72a85b0340>, <mot_3d.data_protos.bbox.BBox object at 0x7f72a85b0460>, <mot_3d.data_protos.bbox.BBox object at 0x7f72a85b0610>, <mot_3d.data_protos.bbox.BBox object at 0x7f72a85b0c40>, <mot_3d.data_protos.bbox.BBox object at 0x7f72a85b0310>, <mot_3d.data_protos.bbox.BBox object at 0x7f72a85b0cd0>, <mot_3d.data_protos.bbox.BBox object at 0x7f72a85b0250>, <mot_3d.data_protos.bbox.BBox object at 0x7f72a85b08b0>, <mot_3d.data_protos.bbox.BBox object at 0x7f72a85b1240>, <mot_3d.data_protos.bbox.BBox object at 0x7f72a85b03d0>, <mot_3d.data_protos.bbox.BBox object at 0x7f72a85b0d60>, <mot_3d.data_protos.bbox.BBox object at 0x7f72a85b0d30>, <mot_3d.data_protos.bbox.BBox object at 0x7f72a85b09d0>]\n",
      "TYPE [1] SEQ 1 Frame 3 / 198\n",
      "[<mot_3d.data_protos.bbox.BBox object at 0x7f72a85b06d0>, <mot_3d.data_protos.bbox.BBox object at 0x7f72a85b0880>, <mot_3d.data_protos.bbox.BBox object at 0x7f72a85b0280>, <mot_3d.data_protos.bbox.BBox object at 0x7f72a85b0370>, <mot_3d.data_protos.bbox.BBox object at 0x7f72a85b01f0>, <mot_3d.data_protos.bbox.BBox object at 0x7f72a85b06a0>, <mot_3d.data_protos.bbox.BBox object at 0x7f72a85b05b0>, <mot_3d.data_protos.bbox.BBox object at 0x7f72a85b0340>, <mot_3d.data_protos.bbox.BBox object at 0x7f72a85b0460>, <mot_3d.data_protos.bbox.BBox object at 0x7f72a85b0610>, <mot_3d.data_protos.bbox.BBox object at 0x7f72a85b0c40>, <mot_3d.data_protos.bbox.BBox object at 0x7f72a85b0310>, <mot_3d.data_protos.bbox.BBox object at 0x7f72a85b0cd0>, <mot_3d.data_protos.bbox.BBox object at 0x7f72a85b0250>, <mot_3d.data_protos.bbox.BBox object at 0x7f72a85b08b0>, <mot_3d.data_protos.bbox.BBox object at 0x7f72a85b1240>, <mot_3d.data_protos.bbox.BBox object at 0x7f72a85b03d0>]\n",
      "TYPE [1] SEQ 1 Frame 4 / 198\n",
      "[<mot_3d.data_protos.bbox.BBox object at 0x7f72a85b06d0>, <mot_3d.data_protos.bbox.BBox object at 0x7f72a85b0880>, <mot_3d.data_protos.bbox.BBox object at 0x7f72a85b0280>, <mot_3d.data_protos.bbox.BBox object at 0x7f72a85b0370>, <mot_3d.data_protos.bbox.BBox object at 0x7f72a85b01f0>, <mot_3d.data_protos.bbox.BBox object at 0x7f72a85b06a0>, <mot_3d.data_protos.bbox.BBox object at 0x7f72a85b05b0>, <mot_3d.data_protos.bbox.BBox object at 0x7f72a85b0340>, <mot_3d.data_protos.bbox.BBox object at 0x7f72a85b0460>, <mot_3d.data_protos.bbox.BBox object at 0x7f72a85b0610>, <mot_3d.data_protos.bbox.BBox object at 0x7f72a85b0c40>, <mot_3d.data_protos.bbox.BBox object at 0x7f72a85b0310>, <mot_3d.data_protos.bbox.BBox object at 0x7f72a85b0cd0>, <mot_3d.data_protos.bbox.BBox object at 0x7f72a85b0250>, <mot_3d.data_protos.bbox.BBox object at 0x7f72a85b08b0>, <mot_3d.data_protos.bbox.BBox object at 0x7f72a85b1240>, <mot_3d.data_protos.bbox.BBox object at 0x7f72a85b03d0>, <mot_3d.data_protos.bbox.BBox object at 0x7f72a85b0d60>, <mot_3d.data_protos.bbox.BBox object at 0x7f72a4933e50>, <mot_3d.data_protos.bbox.BBox object at 0x7f72a40b8850>, <mot_3d.data_protos.bbox.BBox object at 0x7f72a40b8760>, <mot_3d.data_protos.bbox.BBox object at 0x7f72a40b8700>, <mot_3d.data_protos.bbox.BBox object at 0x7f72a40b87f0>]\n",
      "TYPE [1] SEQ 1 Frame 5 / 198\n",
      "[<mot_3d.data_protos.bbox.BBox object at 0x7f72a3fe47c0>, <mot_3d.data_protos.bbox.BBox object at 0x7f72a3fe4760>, <mot_3d.data_protos.bbox.BBox object at 0x7f72a3fe4850>, <mot_3d.data_protos.bbox.BBox object at 0x7f72a3fe4880>, <mot_3d.data_protos.bbox.BBox object at 0x7f72a3fe4820>, <mot_3d.data_protos.bbox.BBox object at 0x7f72a3fe4730>, <mot_3d.data_protos.bbox.BBox object at 0x7f72a3fe48e0>, <mot_3d.data_protos.bbox.BBox object at 0x7f72a3fe42e0>, <mot_3d.data_protos.bbox.BBox object at 0x7f72a3fe4250>, <mot_3d.data_protos.bbox.BBox object at 0x7f72a3fe4550>, <mot_3d.data_protos.bbox.BBox object at 0x7f72a3fe4400>, <mot_3d.data_protos.bbox.BBox object at 0x7f72a3fe4610>, <mot_3d.data_protos.bbox.BBox object at 0x7f72a3fe4670>, <mot_3d.data_protos.bbox.BBox object at 0x7f72a3fe42b0>, <mot_3d.data_protos.bbox.BBox object at 0x7f72a3fe4910>, <mot_3d.data_protos.bbox.BBox object at 0x7f72a3fe44c0>, <mot_3d.data_protos.bbox.BBox object at 0x7f72a3fe49d0>, <mot_3d.data_protos.bbox.BBox object at 0x7f72a3fe4460>, <mot_3d.data_protos.bbox.BBox object at 0x7f72a3fe41f0>, <mot_3d.data_protos.bbox.BBox object at 0x7f72a3fe4940>, <mot_3d.data_protos.bbox.BBox object at 0x7f72a3fe4340>, <mot_3d.data_protos.bbox.BBox object at 0x7f72a3fe4220>, <mot_3d.data_protos.bbox.BBox object at 0x7f72a3fe4ac0>, <mot_3d.data_protos.bbox.BBox object at 0x7f72a3fe4280>, <mot_3d.data_protos.bbox.BBox object at 0x7f72a3fe43d0>]\n",
      "^C\n",
      "Traceback (most recent call last):\n",
      "  File \"/home/cv08f23/point-cloud-object-tracking/SimpleTrack/tools/demo.py\", line 159, in <module>\n",
      "    main(args.name, args.obj_type, args.config_path, args.data_folder, det_data_folder, result_folder, \n",
      "  File \"/home/cv08f23/point-cloud-object-tracking/SimpleTrack/tools/demo.py\", line 134, in main\n",
      "    ids, bboxes, states, types = sequence_mot(configs, data_loader, file_index, gt_bboxes, gt_ids, args.visualize)\n",
      "  File \"/home/cv08f23/point-cloud-object-tracking/SimpleTrack/tools/demo.py\", line 98, in sequence_mot\n",
      "    frame_visualization(result_pred_bboxes, result_pred_ids, result_pred_states,\n",
      "  File \"/home/cv08f23/point-cloud-object-tracking/SimpleTrack/tools/demo.py\", line 72, in frame_visualization\n",
      "    visualizer.save(path)\n",
      "  File \"/home/cv08f23/point-cloud-object-tracking/SimpleTrack/mot_3d/visualization/visualizer2d.py\", line 26, in save\n",
      "    plt.savefig(path)\n",
      "  File \"/home/cv08f23/.conda/envs/pcot/lib/python3.10/site-packages/matplotlib/pyplot.py\", line 1024, in savefig\n",
      "    fig.canvas.draw_idle()  # Need this if 'transparent=True', to reset colors.\n",
      "  File \"/home/cv08f23/.conda/envs/pcot/lib/python3.10/site-packages/matplotlib/backend_bases.py\", line 2082, in draw_idle\n",
      "    self.draw(*args, **kwargs)\n",
      "  File \"/home/cv08f23/.conda/envs/pcot/lib/python3.10/site-packages/matplotlib/backends/backend_agg.py\", line 400, in draw\n",
      "    self.figure.draw(self.renderer)\n",
      "  File \"/home/cv08f23/.conda/envs/pcot/lib/python3.10/site-packages/matplotlib/artist.py\", line 95, in draw_wrapper\n",
      "    result = draw(artist, renderer, *args, **kwargs)\n",
      "  File \"/home/cv08f23/.conda/envs/pcot/lib/python3.10/site-packages/matplotlib/artist.py\", line 72, in draw_wrapper\n",
      "    return draw(artist, renderer)\n",
      "  File \"/home/cv08f23/.conda/envs/pcot/lib/python3.10/site-packages/matplotlib/figure.py\", line 3140, in draw\n",
      "    mimage._draw_list_compositing_images(\n",
      "  File \"/home/cv08f23/.conda/envs/pcot/lib/python3.10/site-packages/matplotlib/image.py\", line 131, in _draw_list_compositing_images\n",
      "    a.draw(renderer)\n",
      "  File \"/home/cv08f23/.conda/envs/pcot/lib/python3.10/site-packages/matplotlib/artist.py\", line 72, in draw_wrapper\n",
      "    return draw(artist, renderer)\n",
      "  File \"/home/cv08f23/.conda/envs/pcot/lib/python3.10/site-packages/matplotlib/axes/_base.py\", line 3064, in draw\n",
      "    mimage._draw_list_compositing_images(\n",
      "  File \"/home/cv08f23/.conda/envs/pcot/lib/python3.10/site-packages/matplotlib/image.py\", line 131, in _draw_list_compositing_images\n",
      "    a.draw(renderer)\n",
      "  File \"/home/cv08f23/.conda/envs/pcot/lib/python3.10/site-packages/matplotlib/artist.py\", line 72, in draw_wrapper\n",
      "    return draw(artist, renderer)\n",
      "  File \"/home/cv08f23/.conda/envs/pcot/lib/python3.10/site-packages/matplotlib/collections.py\", line 972, in draw\n",
      "    super().draw(renderer)\n",
      "  File \"/home/cv08f23/.conda/envs/pcot/lib/python3.10/site-packages/matplotlib/artist.py\", line 72, in draw_wrapper\n",
      "    return draw(artist, renderer)\n",
      "  File \"/home/cv08f23/.conda/envs/pcot/lib/python3.10/site-packages/matplotlib/collections.py\", line 405, in draw\n",
      "    renderer.draw_markers(\n",
      "KeyboardInterrupt\n"
     ]
    }
   ],
   "source": [
    "# run PointPillars-mutlihead on nuScenes dataset\n",
    "\n",
    "%cd ~/point-cloud-object-tracking/SimpleTrack/tools\n",
    "!python demo.py \\\n",
    "    --name demo \\\n",
    "    --det_name cp \\\n",
    "    --obj_type vehicle \\\n",
    "    --config_path ../configs/waymo_configs/vc_kf_giou.yaml \\\n",
    "    --data_folder ./demo_data \\\n",
    "    --visualize\n"
   ]
  },
  {
   "cell_type": "code",
   "execution_count": 8,
   "id": "63852002",
   "metadata": {},
   "outputs": [
    {
     "name": "stdout",
     "output_type": "stream",
     "text": [
      "/home/cv08f23\n"
     ]
    },
    {
     "data": {
      "image/png": "[encoded data removed]",
      "text/plain": [
       "<Figure size 640x480 with 1 Axes>"
      ]
     },
     "metadata": {},
     "output_type": "display_data"
    },
    {
     "data": {
      "image/png": "[encoded data removed]",
      "text/plain": [
       "<Figure size 640x480 with 1 Axes>"
      ]
     },
     "metadata": {},
     "output_type": "display_data"
    }
   ],
   "source": [
    "# Visualize samples from object detection\n",
    "%cd\n",
    "\n",
    "from PIL import Image\n",
    "import os\n",
    "import numpy as np\n",
    "import matplotlib.pyplot as plt\n",
    "\n",
    "\n",
    "folder_path = \"/home/cv08f23/results/kitti/point-pillars\"\n",
    "image_list = os.listdir(folder_path)[:2] # Get the first 5 images from the folder\n",
    "for image_name in image_list:\n",
    "    image_path = os.path.join(folder_path, image_name)\n",
    "    image = Image.open(image_path)\n",
    "    img_array = np.array(image)\n",
    "    # display the image inline in the notebook\n",
    "    plt.imshow(img_array)\n",
    "    plt.axis(\"off\")\n",
    "    plt.show()\n"
   ]
  },
  {
   "attachments": {},
   "cell_type": "markdown",
   "id": "d7bed3c9",
   "metadata": {},
   "source": [
    "### Using CenterPoint pretrained model on the nuScenes test dataset:"
   ]
  },
  {
   "cell_type": "code",
   "execution_count": null,
   "id": "5ba71f63",
   "metadata": {},
   "outputs": [],
   "source": [
    "%%bash\n",
    "cd ~/point-cloud-object-tracking/OpenPCDet/tools\n",
    "CKPT=\"$HOME/pre-trained-models/centerpoint-voxel01-nuscenes.pth\"\n",
    "CONFIG_FILE=\"./cfgs/nuscenes_models/cbgs_voxel01_res3d_centerpoint.yaml\"\n",
    "CONFIG_FILE=\"./cfgs/nuscenes_models/cbgs_voxel01_res3d_centerpoint_test.yaml\"\n",
    "BATCH_SIZE=32\n",
    "python test.py --cfg_file \"$CONFIG_FILE\" --batch_size \"$BATCH_SIZE\"  --ckpt \"$CKPT\"\n"
   ]
  },
  {
   "attachments": {},
   "cell_type": "markdown",
   "id": "2d235e18",
   "metadata": {},
   "source": [
    "### Using Trained PointPillars on nuScenes Validation Datasest"
   ]
  },
  {
   "cell_type": "code",
   "execution_count": null,
   "id": "783da7d1",
   "metadata": {},
   "outputs": [],
   "source": [
    "%%bash\n",
    "cd ~/point-cloud-object-tracking/OpenPCDet/tools\n",
    "CKPT=\"$HOME/point-cloud-object-tracking/OpenPCDet/output/nuscenes_models/cbgs_pointpillar/default/ckpt/checkpoint_epoch_40.pth\"\n",
    "CONFIG_FILE=\"./cfgs/nuscenes_models/cbgs_pointpillar.yaml\"\n",
    "BATCH_SIZE=16\n",
    "python test.py --cfg_file \"$CONFIG_FILE\" --batch_size \"$BATCH_SIZE\"  --ckpt \"$CKPT\""
   ]
  },
  {
   "attachments": {},
   "cell_type": "markdown",
   "id": "1d861de1",
   "metadata": {},
   "source": [
    "## SimpleTrack Preprocessing"
   ]
  },
  {
   "cell_type": "code",
   "execution_count": null,
   "id": "92fc638d",
   "metadata": {},
   "outputs": [],
   "source": [
    "%%bash\n",
    "cd ~/point-cloud-object-tracking/SimpleTrack/preprocessing/nuscenes_data\n",
    "\n",
    "# RAW_DATA_FOLDER=~/datasets/nuScenes/v1.0-trainval/\n",
    "RAW_DATA_FOLDER=~/datasets/nuScenes/v1.0-test/\n",
    "\n",
    "# DATA_DIR_2HZ=~/datasets/simpletrack/preprocessing/nuscenes_data/2hz\n",
    "# DATA_DIR_20HZ=~/datasets/simpletrack/preprocessing/nuscenes_data/20hz\n",
    "DATA_DIR_2HZ=~/datasets/simpletrack/preprocessing/nuscenes_test/2hz\n",
    "DATA_DIR_20HZ=~/datasets/simpletrack/preprocessing/nuscenes_test/20hz\n",
    "\n",
    "bash nuscenes_preprocess.sh \"$RAW_DATA_FOLDER\" \"$DATA_DIR_2HZ\" \"$DATA_DIR_20HZ\" \"v1.0-test\""
   ]
  },
  {
   "cell_type": "code",
   "execution_count": 15,
   "id": "df1d5f0e",
   "metadata": {},
   "outputs": [
    {
     "name": "stdout",
     "output_type": "stream",
     "text": [
      "39\n"
     ]
    }
   ],
   "source": [
    "import numpy as np\n",
    "from pprint import pprint as pp\n",
    "# data_path = \"/home/cv08f23/results/kitti/point-pillars/test.npz\"\n",
    "data_path = \"/home/cv08f23/datasets/simpletrack/preprocessing/nuscenes_test/2hz/pc/raw_pc/scene-0078.npz\"\n",
    "data = np.load(data_path, allow_pickle=True)\n",
    "# Set the print options\n",
    "np.set_printoptions(precision=2, suppress=True)\n",
    "# for key in data:\n",
    "#     print(f\"Key: {key}\")\n",
    "#     print(\"Array:\")\n",
    "#     print(data[key])\n",
    "#     print()\n",
    "\n",
    "print(len(data.keys()))\n",
    "\n",
    "# 3D visualization\n",
    "\n",
    "# import matplotlib.pyplot as plt\n",
    "\n",
    "# fig, ax = plt.subplots(figsize=(10, 10), subplot_kw={'projection': '3d'})\n",
    "# ax.scatter(data['0'][:, 0], data['0'][:, 1], data['0'][:, 2], s=0.1)\n",
    "# # equal axis\n",
    "# ax.set_aspect(\"equal\", adjustable=\"box\")"
   ]
  },
  {
   "attachments": {},
   "cell_type": "markdown",
   "id": "33f663ef",
   "metadata": {},
   "source": [
    "## SimpleTrack Motion Model"
   ]
  },
  {
   "cell_type": "code",
   "execution_count": 16,
   "id": "8af98f9b",
   "metadata": {},
   "outputs": [
    {
     "name": "stdout",
     "output_type": "stream",
     "text": [
      "MODE: 2hz\n",
      "LOADING RAW FILE\n",
      "PROCESSING...\n"
     ]
    },
    {
     "name": "stderr",
     "output_type": "stream",
     "text": [
      "100%|██████████| 6008/6008 [00:01<00:00, 4716.27it/s]\n"
     ]
    },
    {
     "name": "stdout",
     "output_type": "stream",
     "text": [
      "SAVING...\n"
     ]
    },
    {
     "name": "stderr",
     "output_type": "stream",
     "text": [
      "  0%|          | 0/150 [00:00<?, ?it/s]/home/cv08f23/.conda/envs/pcot/lib/python3.10/site-packages/numpy/lib/npyio.py:716: VisibleDeprecationWarning: Creating an ndarray from ragged nested sequences (which is a list-or-tuple of lists-or-tuples-or ndarrays with different lengths or shapes) is deprecated. If you meant to do this, you must specify 'dtype=object' when creating the ndarray.\n",
      "  val = np.asanyarray(val)\n",
      "100%|██████████| 150/150 [00:06<00:00, 23.23it/s]\n"
     ]
    }
   ],
   "source": [
    "%%bash\n",
    "\n",
    "cd ~/point-cloud-object-tracking/SimpleTrack/preprocessing/nuscenes_data\n",
    "\n",
    "RAW_DATA_DIR=~/datasets/nuScenes/v1.0-trainval/\n",
    "# RAW_DATA_DIR=~/datasets/nuScenes/v1.0-test/\n",
    "\n",
    "DATA_DIR_2HZ=~/datasets/simpletrack/preprocessing/nuscenes_data/2hz\n",
    "DATA_DIR_20HZ=~/datasets/simpletrack/preprocessing/nuscenes_data/20hz\n",
    "# DATA_DIR_2HZ=~/datasets/simpletrack/preprocessing/nuscenes_test/2hz\n",
    "# DATA_DIR_20HZ=~/datasets/simpletrack/preprocessing/nuscenes_test/20hz\n",
    "\n",
    "MODE=2hz # 20hz | 2hz\n",
    "if [ \"$mode\" = \"20hz\" ]; then\n",
    "    DATA_DIR=\"$DATA_DIR_20HZ\"\n",
    "else\n",
    "    DATA_DIR=\"$DATA_DIR_2HZ\"\n",
    "fi\n",
    "\n",
    "DET_NAME=\"cp_0.06\"\n",
    "# FILE_PATH=~/point-cloud-object-tracking/OpenPCDet/output/cfgs/nuscenes_models/cbgs_voxel01_res3d_centerpoint/default/eval/epoch_01/val/default/final_result/data/results_nusc.json\n",
    "# FILE_PATH=~/point-cloud-object-tracking/OpenPCDet/output/cfgs/nuscenes_models/cbgs_voxel01_res3d_centerpoint/default/eval/epoch_01/test/default/final_result/data/results_nusc.json\n",
    "FILE_PATH=~/point-cloud-object-tracking/OpenPCDet/output/nuscenes_models/cbgs_voxel_res3d_centerpoint_custom/default/eval/eval_with_train/epoch_30/val/final_result/data/results_nusc.json\n",
    "echo \"MODE: $MODE\"\n",
    "\n",
    "python detection.py \\\n",
    "    --raw_data_folder \"$RAW_DATA_DIR\" \\\n",
    "    --data_folder \"$DATA_DIR\" \\\n",
    "    --det_name \"$DET_NAME\" \\\n",
    "    --file_path \"$FILE_PATH\" \\\n",
    "    --mode \"$MODE\" \\\n",
    "    --velo"
   ]
  },
  {
   "cell_type": "code",
   "execution_count": 18,
   "id": "714a67b7",
   "metadata": {},
   "outputs": [
    {
     "name": "stdout",
     "output_type": "stream",
     "text": [
      "Key: bboxes\n",
      "Key: types\n",
      "Key: velos\n",
      "\n",
      "[2399.14  787.06    1.31    2.51    7.03    3.     -0.72   -0.      0.03\n",
      "   -0.69    0.73]\n",
      "car\n",
      "[0.01 1.52]\n"
     ]
    }
   ],
   "source": [
    "import numpy as np\n",
    "from pprint import pprint as pp\n",
    "\n",
    "data_path = \"/home/cv08f23/datasets/simpletrack/preprocessing/nuscenes_test/2hz/detection/cp/dets/scene-0077.npz\"\n",
    "data = np.load(data_path, allow_pickle=True)\n",
    "\n",
    "# Set the print options\n",
    "np.set_printoptions(precision=2, suppress=True)\n",
    "\n",
    "for key in data:\n",
    "    print(f\"Key: {key}\")\n",
    "    # print(\"Array:\")\n",
    "    # pp(data[key])\n",
    "    # print()\n",
    "\n",
    "# [x, y, z, w, l, h, qx, qy, qz, qw, score]\n",
    "frame_idx = 1\n",
    "print()\n",
    "print(np.array(data['bboxes'][0])[frame_idx])\n",
    "print(np.array(data['types'][0])[frame_idx])\n",
    "print(np.array(data['velos'][0])[frame_idx])"
   ]
  },
  {
   "attachments": {},
   "cell_type": "markdown",
   "id": "a9f9e077",
   "metadata": {},
   "source": [
    "## SimpleTrack Tracking"
   ]
  },
  {
   "cell_type": "code",
   "execution_count": 10,
   "id": "00099eb2",
   "metadata": {},
   "outputs": [
    {
     "name": "stdout",
     "output_type": "stream",
     "text": [
      "TYPE car SEQ 19 Frame 31 / 39\n",
      "START TYPE car SEQ 7 / 150\n",
      "TYPE car SEQ 6 Frame 1 / 40\n"
     ]
    },
    {
     "name": "stderr",
     "output_type": "stream",
     "text": [
      "usage: main_nuscenes.py [-h] [--name NAME] [--det_name DET_NAME]\n",
      "                        [--process PROCESS] [--visualize]\n",
      "                        [--start_frame START_FRAME] [--obj_types OBJ_TYPES]\n",
      "                        [--config_path CONFIG_PATH]\n",
      "                        [--result_folder RESULT_FOLDER]\n",
      "                        [--data_folder DATA_FOLDER]\n",
      "main_nuscenes.py: error: unrecognized arguments: True\n"
     ]
    },
    {
     "ename": "CalledProcessError",
     "evalue": "Command 'b'\\ncd ~/point-cloud-object-tracking/SimpleTrack/tools/\\n\\nDET_NAME=\"cp_0.06\"\\n\\nRESULT_FOLDER=\"$HOME/datasets/simpletrack/tracking/nuscenes_data/$DET_NAME/\"\\n# RESULT_FOLDER=~/datasets/simpletrack/tracking/nuscenes_test/\\n\\nCONFIG_PATH=~/point-cloud-object-tracking/SimpleTrack/configs/nu_configs/giou.yaml\\n\\nDATA_DIR_2HZ=~/datasets/simpletrack/preprocessing/nuscenes_data/2hz\\nDATA_DIR_20HZ=~/datasets/simpletrack/preprocessing/nuscenes_data/20hz\\n# DATA_DIR_2HZ=~/datasets/simpletrack/preprocessing/nuscenes_test/2hz\\n# DATA_DIR_20HZ=~/datasets/simpletrack/preprocessing/nuscenes_test/20hz\\n\\nMODE=2hz # 20hz | 2hz\\nif [ \"$mode\" = \"20hz\" ]; then\\n    DATA_DIR=\"$DATA_DIR_20HZ\"\\nelse\\n    DATA_DIR=\"$DATA_DIR_2HZ\"\\nfi\\n\\npython main_nuscenes.py \\\\\\n    --det_name \"$DET_NAME\" \\\\\\n    --config_path \"$CONFIG_PATH\" \\\\\\n    --result_folder \"$RESULT_FOLDER\" \\\\\\n    --data_folder \"$DATA_DIR\" \\\\\\n    --visualize True \\n'' returned non-zero exit status 2.",
     "output_type": "error",
     "traceback": [
      "\u001b[0;31m---------------------------------------------------------------------------\u001b[0m",
      "\u001b[0;31mCalledProcessError\u001b[0m                        Traceback (most recent call last)",
      "Cell \u001b[0;32mIn[10], line 1\u001b[0m\n\u001b[0;32m----> 1\u001b[0m get_ipython()\u001b[39m.\u001b[39;49mrun_cell_magic(\u001b[39m'\u001b[39;49m\u001b[39mbash\u001b[39;49m\u001b[39m'\u001b[39;49m, \u001b[39m'\u001b[39;49m\u001b[39m'\u001b[39;49m, \u001b[39m'\u001b[39;49m\u001b[39m\\n\u001b[39;49;00m\u001b[39mcd ~/point-cloud-object-tracking/SimpleTrack/tools/\u001b[39;49m\u001b[39m\\n\u001b[39;49;00m\u001b[39m\\n\u001b[39;49;00m\u001b[39mDET_NAME=\u001b[39;49m\u001b[39m\"\u001b[39;49m\u001b[39mcp_0.06\u001b[39;49m\u001b[39m\"\u001b[39;49m\u001b[39m\\n\u001b[39;49;00m\u001b[39m\\n\u001b[39;49;00m\u001b[39mRESULT_FOLDER=\u001b[39;49m\u001b[39m\"\u001b[39;49m\u001b[39m$HOME/datasets/simpletrack/tracking/nuscenes_data/$DET_NAME/\u001b[39;49m\u001b[39m\"\u001b[39;49m\u001b[39m\\n\u001b[39;49;00m\u001b[39m# RESULT_FOLDER=~/datasets/simpletrack/tracking/nuscenes_test/\u001b[39;49m\u001b[39m\\n\u001b[39;49;00m\u001b[39m\\n\u001b[39;49;00m\u001b[39mCONFIG_PATH=~/point-cloud-object-tracking/SimpleTrack/configs/nu_configs/giou.yaml\u001b[39;49m\u001b[39m\\n\u001b[39;49;00m\u001b[39m\\n\u001b[39;49;00m\u001b[39mDATA_DIR_2HZ=~/datasets/simpletrack/preprocessing/nuscenes_data/2hz\u001b[39;49m\u001b[39m\\n\u001b[39;49;00m\u001b[39mDATA_DIR_20HZ=~/datasets/simpletrack/preprocessing/nuscenes_data/20hz\u001b[39;49m\u001b[39m\\n\u001b[39;49;00m\u001b[39m# DATA_DIR_2HZ=~/datasets/simpletrack/preprocessing/nuscenes_test/2hz\u001b[39;49m\u001b[39m\\n\u001b[39;49;00m\u001b[39m# DATA_DIR_20HZ=~/datasets/simpletrack/preprocessing/nuscenes_test/20hz\u001b[39;49m\u001b[39m\\n\u001b[39;49;00m\u001b[39m\\n\u001b[39;49;00m\u001b[39mMODE=2hz # 20hz | 2hz\u001b[39;49m\u001b[39m\\n\u001b[39;49;00m\u001b[39mif [ \u001b[39;49m\u001b[39m\"\u001b[39;49m\u001b[39m$mode\u001b[39;49m\u001b[39m\"\u001b[39;49m\u001b[39m = \u001b[39;49m\u001b[39m\"\u001b[39;49m\u001b[39m20hz\u001b[39;49m\u001b[39m\"\u001b[39;49m\u001b[39m ]; then\u001b[39;49m\u001b[39m\\n\u001b[39;49;00m\u001b[39m    DATA_DIR=\u001b[39;49m\u001b[39m\"\u001b[39;49m\u001b[39m$DATA_DIR_20HZ\u001b[39;49m\u001b[39m\"\u001b[39;49m\u001b[39m\\n\u001b[39;49;00m\u001b[39melse\u001b[39;49m\u001b[39m\\n\u001b[39;49;00m\u001b[39m    DATA_DIR=\u001b[39;49m\u001b[39m\"\u001b[39;49m\u001b[39m$DATA_DIR_2HZ\u001b[39;49m\u001b[39m\"\u001b[39;49m\u001b[39m\\n\u001b[39;49;00m\u001b[39mfi\u001b[39;49m\u001b[39m\\n\u001b[39;49;00m\u001b[39m\\n\u001b[39;49;00m\u001b[39mpython main_nuscenes.py \u001b[39;49m\u001b[39m\\\\\u001b[39;49;00m\u001b[39m\\n\u001b[39;49;00m\u001b[39m    --det_name \u001b[39;49m\u001b[39m\"\u001b[39;49m\u001b[39m$DET_NAME\u001b[39;49m\u001b[39m\"\u001b[39;49m\u001b[39m \u001b[39;49m\u001b[39m\\\\\u001b[39;49;00m\u001b[39m\\n\u001b[39;49;00m\u001b[39m    --config_path \u001b[39;49m\u001b[39m\"\u001b[39;49m\u001b[39m$CONFIG_PATH\u001b[39;49m\u001b[39m\"\u001b[39;49m\u001b[39m \u001b[39;49m\u001b[39m\\\\\u001b[39;49;00m\u001b[39m\\n\u001b[39;49;00m\u001b[39m    --result_folder \u001b[39;49m\u001b[39m\"\u001b[39;49m\u001b[39m$RESULT_FOLDER\u001b[39;49m\u001b[39m\"\u001b[39;49m\u001b[39m \u001b[39;49m\u001b[39m\\\\\u001b[39;49;00m\u001b[39m\\n\u001b[39;49;00m\u001b[39m    --data_folder \u001b[39;49m\u001b[39m\"\u001b[39;49m\u001b[39m$DATA_DIR\u001b[39;49m\u001b[39m\"\u001b[39;49m\u001b[39m \u001b[39;49m\u001b[39m\\\\\u001b[39;49;00m\u001b[39m\\n\u001b[39;49;00m\u001b[39m    --visualize True \u001b[39;49m\u001b[39m\\n\u001b[39;49;00m\u001b[39m'\u001b[39;49m)\n",
      "File \u001b[0;32m~/.conda/envs/pcot/lib/python3.10/site-packages/IPython/core/interactiveshell.py:2430\u001b[0m, in \u001b[0;36mInteractiveShell.run_cell_magic\u001b[0;34m(self, magic_name, line, cell)\u001b[0m\n\u001b[1;32m   2428\u001b[0m \u001b[39mwith\u001b[39;00m \u001b[39mself\u001b[39m\u001b[39m.\u001b[39mbuiltin_trap:\n\u001b[1;32m   2429\u001b[0m     args \u001b[39m=\u001b[39m (magic_arg_s, cell)\n\u001b[0;32m-> 2430\u001b[0m     result \u001b[39m=\u001b[39m fn(\u001b[39m*\u001b[39;49margs, \u001b[39m*\u001b[39;49m\u001b[39m*\u001b[39;49mkwargs)\n\u001b[1;32m   2432\u001b[0m \u001b[39m# The code below prevents the output from being displayed\u001b[39;00m\n\u001b[1;32m   2433\u001b[0m \u001b[39m# when using magics with decodator @output_can_be_silenced\u001b[39;00m\n\u001b[1;32m   2434\u001b[0m \u001b[39m# when the last Python token in the expression is a ';'.\u001b[39;00m\n\u001b[1;32m   2435\u001b[0m \u001b[39mif\u001b[39;00m \u001b[39mgetattr\u001b[39m(fn, magic\u001b[39m.\u001b[39mMAGIC_OUTPUT_CAN_BE_SILENCED, \u001b[39mFalse\u001b[39;00m):\n",
      "File \u001b[0;32m~/.conda/envs/pcot/lib/python3.10/site-packages/IPython/core/magics/script.py:153\u001b[0m, in \u001b[0;36mScriptMagics._make_script_magic.<locals>.named_script_magic\u001b[0;34m(line, cell)\u001b[0m\n\u001b[1;32m    151\u001b[0m \u001b[39melse\u001b[39;00m:\n\u001b[1;32m    152\u001b[0m     line \u001b[39m=\u001b[39m script\n\u001b[0;32m--> 153\u001b[0m \u001b[39mreturn\u001b[39;00m \u001b[39mself\u001b[39;49m\u001b[39m.\u001b[39;49mshebang(line, cell)\n",
      "File \u001b[0;32m~/.conda/envs/pcot/lib/python3.10/site-packages/IPython/core/magics/script.py:305\u001b[0m, in \u001b[0;36mScriptMagics.shebang\u001b[0;34m(self, line, cell)\u001b[0m\n\u001b[1;32m    300\u001b[0m \u001b[39mif\u001b[39;00m args\u001b[39m.\u001b[39mraise_error \u001b[39mand\u001b[39;00m p\u001b[39m.\u001b[39mreturncode \u001b[39m!=\u001b[39m \u001b[39m0\u001b[39m:\n\u001b[1;32m    301\u001b[0m     \u001b[39m# If we get here and p.returncode is still None, we must have\u001b[39;00m\n\u001b[1;32m    302\u001b[0m     \u001b[39m# killed it but not yet seen its return code. We don't wait for it,\u001b[39;00m\n\u001b[1;32m    303\u001b[0m     \u001b[39m# in case it's stuck in uninterruptible sleep. -9 = SIGKILL\u001b[39;00m\n\u001b[1;32m    304\u001b[0m     rc \u001b[39m=\u001b[39m p\u001b[39m.\u001b[39mreturncode \u001b[39mor\u001b[39;00m \u001b[39m-\u001b[39m\u001b[39m9\u001b[39m\n\u001b[0;32m--> 305\u001b[0m     \u001b[39mraise\u001b[39;00m CalledProcessError(rc, cell)\n",
      "\u001b[0;31mCalledProcessError\u001b[0m: Command 'b'\\ncd ~/point-cloud-object-tracking/SimpleTrack/tools/\\n\\nDET_NAME=\"cp_0.06\"\\n\\nRESULT_FOLDER=\"$HOME/datasets/simpletrack/tracking/nuscenes_data/$DET_NAME/\"\\n# RESULT_FOLDER=~/datasets/simpletrack/tracking/nuscenes_test/\\n\\nCONFIG_PATH=~/point-cloud-object-tracking/SimpleTrack/configs/nu_configs/giou.yaml\\n\\nDATA_DIR_2HZ=~/datasets/simpletrack/preprocessing/nuscenes_data/2hz\\nDATA_DIR_20HZ=~/datasets/simpletrack/preprocessing/nuscenes_data/20hz\\n# DATA_DIR_2HZ=~/datasets/simpletrack/preprocessing/nuscenes_test/2hz\\n# DATA_DIR_20HZ=~/datasets/simpletrack/preprocessing/nuscenes_test/20hz\\n\\nMODE=2hz # 20hz | 2hz\\nif [ \"$mode\" = \"20hz\" ]; then\\n    DATA_DIR=\"$DATA_DIR_20HZ\"\\nelse\\n    DATA_DIR=\"$DATA_DIR_2HZ\"\\nfi\\n\\npython main_nuscenes.py \\\\\\n    --det_name \"$DET_NAME\" \\\\\\n    --config_path \"$CONFIG_PATH\" \\\\\\n    --result_folder \"$RESULT_FOLDER\" \\\\\\n    --data_folder \"$DATA_DIR\" \\\\\\n    --visualize True \\n'' returned non-zero exit status 2."
     ]
    },
    {
     "name": "stdout",
     "output_type": "stream",
     "text": [
      "TYPE car SEQ 6 Frame 11 / 40\n",
      "TYPE car SEQ 17 Frame 11 / 39\n",
      "START TYPE car SEQ 21 / 150\n",
      "TYPE car SEQ 20 Frame 1 / 40\n",
      "TYPE car SEQ 6 Frame 21 / 40\n",
      "TYPE car SEQ 20 Frame 11 / 40\n",
      "TYPE car SEQ 20 Frame 21 / 40\n",
      "TYPE car SEQ 17 Frame 21 / 39\n",
      "TYPE car SEQ 6 Frame 31 / 40\n",
      "TYPE car SEQ 20 Frame 31 / 40\n",
      "START TYPE car SEQ 22 / 150\n",
      "TYPE car SEQ 21 Frame 1 / 40\n",
      "TYPE car SEQ 17 Frame 31 / 39\n",
      "START TYPE car SEQ 8 / 150\n",
      "TYPE car SEQ 7 Frame 1 / 40\n",
      "TYPE car SEQ 21 Frame 11 / 40\n",
      "START TYPE car SEQ 19 / 150\n",
      "TYPE car SEQ 18 Frame 1 / 39\n",
      "TYPE car SEQ 21 Frame 21 / 40\n",
      "TYPE car SEQ 7 Frame 11 / 40\n",
      "TYPE car SEQ 25 Frame 31 / 39\n",
      "TYPE car SEQ 18 Frame 11 / 39\n",
      "TYPE car SEQ 18 Frame 21 / 39\n",
      "TYPE car SEQ 21 Frame 31 / 40\n",
      "TYPE car SEQ 7 Frame 21 / 40\n",
      "TYPE car SEQ 18 Frame 31 / 39\n",
      "START TYPE car SEQ 20 / 150\n",
      "TYPE car SEQ 19 Frame 1 / 39\n",
      "TYPE car SEQ 7 Frame 31 / 40\n",
      "START TYPE car SEQ 23 / 150\n",
      "TYPE car SEQ 22 Frame 1 / 40\n",
      "START TYPE car SEQ 9 / 150\n",
      "TYPE car SEQ 8 Frame 1 / 40\n",
      "TYPE car SEQ 22 Frame 11 / 40\n",
      "TYPE car SEQ 19 Frame 11 / 39\n",
      "TYPE car SEQ 8 Frame 11 / 40\n",
      "TYPE car SEQ 22 Frame 21 / 40\n",
      "TYPE car SEQ 22 Frame 31 / 40\n",
      "START TYPE car SEQ 24 / 150\n",
      "TYPE car SEQ 23 Frame 1 / 40\n",
      "TYPE car SEQ 8 Frame 21 / 40\n",
      "TYPE car SEQ 19 Frame 21 / 39\n",
      "TYPE car SEQ 23 Frame 11 / 40\n"
     ]
    }
   ],
   "source": [
    "%%bash\n",
    "\n",
    "cd ~/point-cloud-object-tracking/SimpleTrack/tools/\n",
    "\n",
    "DET_NAME=\"cp_0.06\"\n",
    "\n",
    "RESULT_FOLDER=\"$HOME/datasets/simpletrack/tracking/nuscenes_data/$DET_NAME/\"\n",
    "# RESULT_FOLDER=~/datasets/simpletrack/tracking/nuscenes_test/\n",
    "\n",
    "CONFIG_PATH=~/point-cloud-object-tracking/SimpleTrack/configs/nu_configs/giou.yaml\n",
    "\n",
    "DATA_DIR_2HZ=~/datasets/simpletrack/preprocessing/nuscenes_data/2hz\n",
    "DATA_DIR_20HZ=~/datasets/simpletrack/preprocessing/nuscenes_data/20hz\n",
    "# DATA_DIR_2HZ=~/datasets/simpletrack/preprocessing/nuscenes_test/2hz\n",
    "# DATA_DIR_20HZ=~/datasets/simpletrack/preprocessing/nuscenes_test/20hz\n",
    "\n",
    "MODE=2hz # 20hz | 2hz\n",
    "if [ \"$mode\" = \"20hz\" ]; then\n",
    "    DATA_DIR=\"$DATA_DIR_20HZ\"\n",
    "else\n",
    "    DATA_DIR=\"$DATA_DIR_2HZ\"\n",
    "fi\n",
    "\n",
    "python main_nuscenes.py \\\n",
    "    --det_name \"$DET_NAME\" \\\n",
    "    --config_path \"$CONFIG_PATH\" \\\n",
    "    --result_folder \"$RESULT_FOLDER\" \\\n",
    "    --data_folder \"$DATA_DIR\" \\\n",
    "    --visualize true "
   ]
  },
  {
   "cell_type": "code",
   "execution_count": 22,
   "id": "a1323a94",
   "metadata": {},
   "outputs": [
    {
     "name": "stdout",
     "output_type": "stream",
     "text": [
      "Key: ids\n",
      "Key: bboxes\n",
      "Key: states\n",
      "Key: types\n",
      "\n",
      "0_1\n",
      "[2405.23  786.28    0.8    -1.58    5.59    2.18    2.01    0.19]\n",
      "alive_1_0\n",
      "truck\n"
     ]
    }
   ],
   "source": [
    "import numpy as np\n",
    "\n",
    "data_path = \"/home/cv08f23/datasets/simpletrack/tracking/nuscenes_test/debug/summary/truck/scene-0077.npz\"\n",
    "data = np.load(data_path, allow_pickle=True)\n",
    "\n",
    "# Set the print options\n",
    "np.set_printoptions(precision=2, suppress=True)\n",
    "\n",
    "for key in data:\n",
    "    print(f\"Key: {key}\")\n",
    "    # print(\"Array:\")\n",
    "    # pp(data[key])\n",
    "    # print()\n",
    "\n",
    "frame_idx = 1\n",
    "tracklet_idx = 1\n",
    "\n",
    "# <scene>_<id>\n",
    "# [<x>, <y>, <z>, <o>, <l>, <w>, <h>, <score>]\n",
    "# <state>_<recent-state>_<time-since-last-update>\n",
    "# <type>\n",
    "\n",
    "print()\n",
    "print(np.array(data['ids'][frame_idx])[tracklet_idx])\n",
    "print(np.array(data['bboxes'][frame_idx])[tracklet_idx])\n",
    "print(np.array(data['states'][frame_idx])[tracklet_idx])\n",
    "print(np.array(data['types'][frame_idx])[tracklet_idx])"
   ]
  },
  {
   "attachments": {},
   "cell_type": "markdown",
   "id": "dcf86812",
   "metadata": {},
   "source": [
    "## SimpleTrack Results"
   ]
  },
  {
   "cell_type": "code",
   "execution_count": 1,
   "id": "6af911dc",
   "metadata": {},
   "outputs": [
    {
     "name": "stdout",
     "output_type": "stream",
     "text": [
      "CONVERTING car\n"
     ]
    },
    {
     "name": "stderr",
     "output_type": "stream",
     "text": [
      "100%|████████████████████████████████████████| 150/150 [00:19<00:00,  7.53it/s]\n"
     ]
    },
    {
     "name": "stdout",
     "output_type": "stream",
     "text": [
      "CONVERTING bus\n"
     ]
    },
    {
     "name": "stderr",
     "output_type": "stream",
     "text": [
      "100%|████████████████████████████████████████| 150/150 [00:01<00:00, 82.51it/s]\n"
     ]
    },
    {
     "name": "stdout",
     "output_type": "stream",
     "text": [
      "CONVERTING trailer\n"
     ]
    },
    {
     "name": "stderr",
     "output_type": "stream",
     "text": [
      "100%|████████████████████████████████████████| 150/150 [00:03<00:00, 45.30it/s]\n"
     ]
    },
    {
     "name": "stdout",
     "output_type": "stream",
     "text": [
      "CONVERTING truck\n"
     ]
    },
    {
     "name": "stderr",
     "output_type": "stream",
     "text": [
      "100%|████████████████████████████████████████| 150/150 [00:08<00:00, 18.72it/s]\n"
     ]
    },
    {
     "name": "stdout",
     "output_type": "stream",
     "text": [
      "CONVERTING pedestrian\n"
     ]
    },
    {
     "name": "stderr",
     "output_type": "stream",
     "text": [
      "100%|████████████████████████████████████████| 150/150 [00:17<00:00,  8.39it/s]\n"
     ]
    },
    {
     "name": "stdout",
     "output_type": "stream",
     "text": [
      "CONVERTING bicycle\n"
     ]
    },
    {
     "name": "stderr",
     "output_type": "stream",
     "text": [
      "100%|████████████████████████████████████████| 150/150 [00:14<00:00, 10.35it/s]\n"
     ]
    },
    {
     "name": "stdout",
     "output_type": "stream",
     "text": [
      "CONVERTING motorcycle\n"
     ]
    },
    {
     "name": "stderr",
     "output_type": "stream",
     "text": [
      "100%|████████████████████████████████████████| 150/150 [00:08<00:00, 17.50it/s]\n"
     ]
    }
   ],
   "source": [
    "%%bash\n",
    "\n",
    "cd ~/point-cloud-object-tracking/SimpleTrack/tools/\n",
    "\n",
    "DET_NAME=\"cp_0.06\"\n",
    "\n",
    "RESULT_FOLDER=\"$HOME/datasets/simpletrack/tracking/nuscenes_data/$DET_NAME/\"\n",
    "# RESULT_FOLDER=~/datasets/simpletrack/tracking/nuscenes_test/\n",
    "\n",
    "DATA_DIR_2HZ=~/datasets/simpletrack/preprocessing/nuscenes_data/2hz\n",
    "DATA_DIR_20HZ=~/datasets/simpletrack/preprocessing/nuscenes_data/20hz\n",
    "# DATA_DIR_2HZ=~/datasets/simpletrack/preprocessing/nuscenes_test/2hz\n",
    "# DATA_DIR_20HZ=~/datasets/simpletrack/preprocessing/nuscenes_test/20hz\n",
    "\n",
    "MODE=2hz # 20hz | 2hz\n",
    "if [ \"$mode\" = \"20hz\" ]; then\n",
    "    DATA_DIR=\"$DATA_DIR_20HZ\"\n",
    "else\n",
    "    DATA_DIR=\"$DATA_DIR_2HZ\"\n",
    "fi\n",
    "\n",
    "python nuscenes_result_creation.py \\\n",
    "    --result_folder \"$RESULT_FOLDER\" \\\n",
    "    --data_folder \"$DATA_DIR\""
   ]
  },
  {
   "cell_type": "code",
   "execution_count": null,
   "id": "1c98a025",
   "metadata": {},
   "outputs": [],
   "source": [
    "%%bash\n",
    "\n",
    "SET=val # train | val | test\n",
    "# CLASS=car # bicycle | bus | car | motorcycle | pedestrian | trailer | truck\n",
    "\n",
    "if [ \"$SET\" = \"test\" ]; then\n",
    "       VERSION=\"v1.0-test\"\n",
    "       RAW_DATA_FOLDER=~/datasets/nuScenes/v1.0-test/\n",
    "       TRACKING_OUTPUT_PARENT_DIR=\"nuscenes_test\"\n",
    "else\n",
    "       VERSION=\"v1.0-trainval\"\n",
    "       RAW_DATA_FOLDER=~/datasets/nuScenes/v1.0-trainval/\n",
    "       TRACKING_OUTPUT_PARENT_DIR=\"nuscenes_data\"\n",
    "fi\n",
    "\n",
    "DET_NAME=\"cp_0.06\"\n",
    "\n",
    "RESULTS_DATA_DIR=\"~/datasets/simpletrack/tracking/$TRACKING_OUTPUT_PARENT_DIR/$DET_NAME/debug/results/merged_output.json\"\n",
    "echo \"$RESULTS_DATA_DIR\"\n",
    "OUTPUT_DIR=\"~/datasets/simpletrack/tracking/$TRACKING_OUTPUT_PARENT_DIR/$DET_NAME/debug/eval\"\n",
    "\n",
    "python ~/.conda/envs/pcot_3.9/lib/python3.9/site-packages/nuscenes/eval/tracking/evaluate.py \\\n",
    "       \"$RESULTS_DATA_DIR\" \\\n",
    "       --version \"$VERSION\" \\\n",
    "       --eval_set \"$SET\" \\\n",
    "       --dataroot \"$RAW_DATA_FOLDER\" \\\n",
    "       --output_dir \"$OUTPUT_DIR\"\n"
   ]
  }
 ],
 "metadata": {
  "kernelspec": {
   "display_name": "pcot",
   "language": "python",
   "name": "python3"
  },
  "language_info": {
   "codemirror_mode": {
    "name": "ipython",
    "version": 3
   },
   "file_extension": ".py",
   "mimetype": "text/x-python",
   "name": "python",
   "nbconvert_exporter": "python",
   "pygments_lexer": "ipython3",
   "version": "3.10.8"
  }
 },
 "nbformat": 4,
 "nbformat_minor": 5
}
