{
 "cells": [
  {
   "cell_type": "code",
   "execution_count": 1,
   "metadata": {},
   "outputs": [
    {
     "data": {
      "text/plain": [
       "1230"
      ]
     },
     "execution_count": 1,
     "metadata": {},
     "output_type": "execute_result"
    }
   ],
   "source": [
    "import matplotlib.pyplot as plt\n",
    "import numpy as np\n",
    "import json\n",
    "from pathlib import Path\n",
    "import os"
   ]
  },
  {
   "cell_type": "code",
   "execution_count": 2,
   "metadata": {},
   "outputs": [
    {
     "ename": "SyntaxError",
     "evalue": "invalid syntax. Perhaps you forgot a comma? (2402083091.py, line 4)",
     "output_type": "error",
     "traceback": [
      "\u001b[0;36m  Cell \u001b[0;32mIn[2], line 4\u001b[0;36m\u001b[0m\n\u001b[0;31m    \"path_detailed\": home / Path(\"datasets/simpletrack/tracking/nuscenes_data/debug/eval/metrics_details.json\")\u001b[0m\n\u001b[0m                     ^\u001b[0m\n\u001b[0;31mSyntaxError\u001b[0m\u001b[0;31m:\u001b[0m invalid syntax. Perhaps you forgot a comma?\n"
     ]
    }
   ],
   "source": [
    "home = os.path.expanduser(\"~\")\n",
    "\n",
    "simpletrack = {\n",
    "    \"path_detailed\": home / Path(\"datasets/simpletrack/tracking/nuscenes_data/debug/eval/metrics_details.json\")\n",
    "    \"path_summary\": home / Path(\"datasets/simpletrack/tracking/nuscenes_data/debug/eval/metrics_summary.json\")\n",
    "}\n",
    "\n",
    "simpletrack[\"path_detailed\"]\n",
    "# data_detailed = json.load(open(path_data_detailed))\n",
    "# data_summary = json.load(open(path_data_summary))\n",
    "\n",
    "\n",
    "\n",
    "# print(data_detailed.keys())\n"
   ]
  },
  {
   "cell_type": "code",
   "execution_count": 30,
   "metadata": {},
   "outputs": [
    {
     "name": "stdout",
     "output_type": "stream",
     "text": [
      "amota:\t0.642\n",
      "amotp:\t0.643\n",
      "recall:\t0.679\n",
      "motar:\t0.811\n",
      "gt:\t101897.000\n",
      "mota:\t0.550\n",
      "motp:\t0.362\n",
      "mt:\t603.571\n",
      "ml:\t216.571\n",
      "faf:\t46.133\n",
      "tp:\t11396.286\n",
      "fp:\t1947.714\n",
      "fn:\t3072.286\n",
      "ids:\t617.000\n",
      "frag:\t84.714\n",
      "tid:\t0.719\n",
      "lgd:\t1.112\n"
     ]
    }
   ],
   "source": [
    "for metric, val in data_summary['label_metrics'].items():\n",
    "    if metric == 'ids' or metric == 'gt':\n",
    "        fn = np.sum\n",
    "    else:\n",
    "        fn = np.mean\n",
    "\n",
    "    print(f\"{metric}:\\t{fn(list(val.values())):.3f}\")"
   ]
  },
  {
   "cell_type": "code",
   "execution_count": null,
   "metadata": {},
   "outputs": [],
   "source": []
  }
 ],
 "metadata": {
  "kernelspec": {
   "display_name": "pcot",
   "language": "python",
   "name": "python3"
  },
  "language_info": {
   "codemirror_mode": {
    "name": "ipython",
    "version": 3
   },
   "file_extension": ".py",
   "mimetype": "text/x-python",
   "name": "python",
   "nbconvert_exporter": "python",
   "pygments_lexer": "ipython3",
   "version": "3.10.8"
  },
  "orig_nbformat": 4
 },
 "nbformat": 4,
 "nbformat_minor": 2
}
