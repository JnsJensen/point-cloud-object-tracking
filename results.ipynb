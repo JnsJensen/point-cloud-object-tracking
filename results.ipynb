{
 "cells": [
  {
   "cell_type": "code",
   "execution_count": 4,
   "metadata": {},
   "outputs": [],
   "source": [
    "import matplotlib.pyplot as plt\n",
    "import matplotlib as mpl\n",
    "import seaborn as sns\n",
    "import numpy as np\n",
    "import json\n",
    "from pathlib import Path\n",
    "import os\n",
    "import polars as pl\n",
    "import pandas as pd"
   ]
  },
  {
   "cell_type": "code",
   "execution_count": 5,
   "metadata": {},
   "outputs": [
    {
     "data": {
      "image/png": "[encoded data removed]",
      "text/plain": [
       "<Figure size 1800x300 with 1 Axes>"
      ]
     },
     "metadata": {},
     "output_type": "display_data"
    }
   ],
   "source": [
    "# plot settings\n",
    "plt.rcParams['figure.figsize'] = [5, 5]\n",
    "plt.rcParams['figure.dpi'] = 300\n",
    "\n",
    "# use seaborn style\n",
    "sns.set_theme(style=\"darkgrid\")\n",
    "\n",
    "# styling\n",
    "# colormaps\n",
    "cm_viridis = plt.get_cmap('viridis')\n",
    "cm_plasma = plt.get_cmap('plasma')\n",
    "cm_rainbow = plt.get_cmap('rainbow')\n",
    "cm_gist_rainbow = plt.get_cmap('gist_rainbow')\n",
    "\n",
    "cmap = cm_plasma # set colormap\n",
    "# get colormap colors\n",
    "def get_colors(amount: int, offset: int = 0):\n",
    "    return [\n",
    "        cmap(i)\n",
    "        for i in np.linspace(0, 1, amount + offset*2)\n",
    "    ][offset:-offset if offset != 0 else None]\n",
    "\n",
    "# preview colors\n",
    "fig, ax = plt.subplots(figsize=(6, 1))\n",
    "colors = get_colors(10, offset=1)\n",
    "ax.imshow([colors], extent=[0, len(colors), 0, 1])\n",
    "ax.axis('off')\n",
    "plt.show()"
   ]
  },
  {
   "cell_type": "code",
   "execution_count": 7,
   "metadata": {},
   "outputs": [
    {
     "ename": "FileNotFoundError",
     "evalue": "[Errno 2] No such file or directory: '/home/cv08f23/datasets/simpletrack/tracking/nuscenes_data/debug/eval/metrics_details.json'",
     "output_type": "error",
     "traceback": [
      "\u001b[0;31m---------------------------------------------------------------------------\u001b[0m",
      "\u001b[0;31mFileNotFoundError\u001b[0m                         Traceback (most recent call last)",
      "Cell \u001b[0;32mIn[7], line 13\u001b[0m\n\u001b[1;32m      3\u001b[0m simpletrack \u001b[39m=\u001b[39m {\n\u001b[1;32m      4\u001b[0m     \u001b[39m\"\u001b[39m\u001b[39mpath_detailed\u001b[39m\u001b[39m\"\u001b[39m: home \u001b[39m/\u001b[39m Path(\u001b[39m\"\u001b[39m\u001b[39mdatasets/simpletrack/tracking/nuscenes_data/debug/eval/metrics_details.json\u001b[39m\u001b[39m\"\u001b[39m),\n\u001b[1;32m      5\u001b[0m     \u001b[39m\"\u001b[39m\u001b[39mpath_summary\u001b[39m\u001b[39m\"\u001b[39m: home \u001b[39m/\u001b[39m Path(\u001b[39m\"\u001b[39m\u001b[39mdatasets/simpletrack/tracking/nuscenes_data/debug/eval/metrics_summary.json\u001b[39m\u001b[39m\"\u001b[39m)\n\u001b[1;32m      6\u001b[0m }\n\u001b[1;32m      8\u001b[0m \u001b[39m# simpletrack = {\u001b[39;00m\n\u001b[1;32m      9\u001b[0m \u001b[39m#     \"path_detailed\": \"simpletrack-results/metrics_details.json\",\u001b[39;00m\n\u001b[1;32m     10\u001b[0m \u001b[39m#     \"path_summary\": \"simpletrack-results/metrics_summary.json\"\u001b[39;00m\n\u001b[1;32m     11\u001b[0m \u001b[39m# }\u001b[39;00m\n\u001b[0;32m---> 13\u001b[0m simpletrack[\u001b[39m\"\u001b[39m\u001b[39mdata_detailed\u001b[39m\u001b[39m\"\u001b[39m] \u001b[39m=\u001b[39m json\u001b[39m.\u001b[39mload(\u001b[39mopen\u001b[39;49m(simpletrack[\u001b[39m\"\u001b[39;49m\u001b[39mpath_detailed\u001b[39;49m\u001b[39m\"\u001b[39;49m]))\n\u001b[1;32m     14\u001b[0m simpletrack[\u001b[39m\"\u001b[39m\u001b[39mdata_summary\u001b[39m\u001b[39m\"\u001b[39m] \u001b[39m=\u001b[39m json\u001b[39m.\u001b[39mload(\u001b[39mopen\u001b[39m(simpletrack[\u001b[39m\"\u001b[39m\u001b[39mpath_summary\u001b[39m\u001b[39m\"\u001b[39m]))\n",
      "File \u001b[0;32m~/.conda/envs/pcot/lib/python3.10/site-packages/IPython/core/interactiveshell.py:282\u001b[0m, in \u001b[0;36m_modified_open\u001b[0;34m(file, *args, **kwargs)\u001b[0m\n\u001b[1;32m    275\u001b[0m \u001b[39mif\u001b[39;00m file \u001b[39min\u001b[39;00m {\u001b[39m0\u001b[39m, \u001b[39m1\u001b[39m, \u001b[39m2\u001b[39m}:\n\u001b[1;32m    276\u001b[0m     \u001b[39mraise\u001b[39;00m \u001b[39mValueError\u001b[39;00m(\n\u001b[1;32m    277\u001b[0m         \u001b[39mf\u001b[39m\u001b[39m\"\u001b[39m\u001b[39mIPython won\u001b[39m\u001b[39m'\u001b[39m\u001b[39mt let you open fd=\u001b[39m\u001b[39m{\u001b[39;00mfile\u001b[39m}\u001b[39;00m\u001b[39m by default \u001b[39m\u001b[39m\"\u001b[39m\n\u001b[1;32m    278\u001b[0m         \u001b[39m\"\u001b[39m\u001b[39mas it is likely to crash IPython. If you know what you are doing, \u001b[39m\u001b[39m\"\u001b[39m\n\u001b[1;32m    279\u001b[0m         \u001b[39m\"\u001b[39m\u001b[39myou can use builtins\u001b[39m\u001b[39m'\u001b[39m\u001b[39m open.\u001b[39m\u001b[39m\"\u001b[39m\n\u001b[1;32m    280\u001b[0m     )\n\u001b[0;32m--> 282\u001b[0m \u001b[39mreturn\u001b[39;00m io_open(file, \u001b[39m*\u001b[39;49margs, \u001b[39m*\u001b[39;49m\u001b[39m*\u001b[39;49mkwargs)\n",
      "\u001b[0;31mFileNotFoundError\u001b[0m: [Errno 2] No such file or directory: '/home/cv08f23/datasets/simpletrack/tracking/nuscenes_data/debug/eval/metrics_details.json'"
     ]
    }
   ],
   "source": [
    "home = os.path.expanduser(\"~\")\n",
    "\n",
    "# Taking the paths for simpletrack results, detailed and summary\n",
    "# and taking the path for detection results, detailed and summary\n",
    "# function constructing a nested dictionary\n",
    "\n",
    "def get_results(path: str):\n",
    "    return {\n",
    "        \"path_detailed\": Path(path + \"/metrics_details.json\"),\n",
    "        \"path_summary\": Path(path + \"/metrics_summary.json\")\n",
    "    }\n",
    "\n",
    "def get_data(results):\n",
    "    return {\n",
    "        \"data_detailed\": json.load(open(results[\"path_detailed\"])),\n",
    "        \"data_summary\": json.load(open(results[\"path_summary\"]))\n",
    "    }\n",
    "\n",
    "cp_0060_detections = get_data(get_results(\"/home/cv08f23/point-cloud-object-tracking/OpenPCDet/output/cbgs_voxel_res3d_centerpoint_custom/default/eval/epoch_30/val/default/final_result\"))\n",
    "cp_0060_tracking = get_data(get_results(\"/home/cv08f23/datasets/simpletrack/tracking/nuscenes_data/cp_0.06/debug/eval\"))\n",
    "\n",
    "# simpletrack = {\n",
    "#     \"path_detailed\": \"simpletrack-results/metrics_details.json\",\n",
    "#     \"path_summary\": \"simpletrack-results/metrics_summary.json\"\n",
    "# }\n",
    "\n",
    "simpletrack[\"data_detailed\"] = json.load(open(simpletrack[\"path_detailed\"]))\n",
    "simpletrack[\"data_summary\"] = json.load(open(simpletrack[\"path_summary\"]))"
   ]
  },
  {
   "cell_type": "code",
   "execution_count": 30,
   "metadata": {},
   "outputs": [
    {
     "name": "stdout",
     "output_type": "stream",
     "text": [
      "amota:\t0.642\n",
      "amotp:\t0.643\n",
      "recall:\t0.679\n",
      "motar:\t0.811\n",
      "gt:\t101897.000\n",
      "mota:\t0.550\n",
      "motp:\t0.362\n",
      "mt:\t603.571\n",
      "ml:\t216.571\n",
      "faf:\t46.133\n",
      "tp:\t11396.286\n",
      "fp:\t1947.714\n",
      "fn:\t3072.286\n",
      "ids:\t617.000\n",
      "frag:\t84.714\n",
      "tid:\t0.719\n",
      "lgd:\t1.112\n"
     ]
    }
   ],
   "source": [
    "for metric, val in data_summary['label_metrics'].items():\n",
    "    if metric == 'ids' or metric == 'gt':\n",
    "        fn = np.sum\n",
    "    else:\n",
    "        fn = np.mean\n",
    "\n",
    "    print(f\"{metric}:\\t{fn(list(val.values())):.3f}\")"
   ]
  },
  {
   "cell_type": "code",
   "execution_count": null,
   "metadata": {},
   "outputs": [],
   "source": []
  }
 ],
 "metadata": {
  "kernelspec": {
   "display_name": "pcot",
   "language": "python",
   "name": "python3"
  },
  "language_info": {
   "codemirror_mode": {
    "name": "ipython",
    "version": 3
   },
   "file_extension": ".py",
   "mimetype": "text/x-python",
   "name": "python",
   "nbconvert_exporter": "python",
   "pygments_lexer": "ipython3",
   "version": "3.10.8"
  },
  "orig_nbformat": 4
 },
 "nbformat": 4,
 "nbformat_minor": 2
}
