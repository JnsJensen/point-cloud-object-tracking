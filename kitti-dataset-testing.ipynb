{
    "cells": [
        {
            "cell_type": "code",
            "execution_count": 1,
            "metadata": {},
            "outputs": [],
            "source": [
                "import numpy as np\n",
                "import matplotlib as mpl\n",
                "import matplotlib.pyplot as plt\n",
                "import json\n",
                "import os\n",
                "import re\n",
                "import seaborn as sns\n",
                "\n",
                "%matplotlib widget"
            ]
        },
        {
            "cell_type": "code",
            "execution_count": 2,
            "metadata": {},
            "outputs": [],
            "source": [
                "def expand_path(path):\n",
                "    return os.path.expanduser(os.path.expandvars(path))\n",
                "\n",
                "# data path\n",
                "data_path = expand_path(\"~/datasets/kitti/training/velodyne\")"
            ]
        },
        {
            "cell_type": "code",
            "execution_count": 5,
            "metadata": {},
            "outputs": [],
            "source": [
                "# list files in data path\n",
                "files = os.listdir(data_path)\n",
                "\n",
                "# sort files by number\n",
                "files.sort(key=lambda f: int(re.sub('\\D', '', f)))\n",
                "\n"
            ]
        },
        {
            "cell_type": "code",
            "execution_count": null,
            "metadata": {},
            "outputs": [],
            "source": []
        }
    ],
    "metadata": {
        "kernelspec": {
            "display_name": "pcot",
            "language": "python",
            "name": "python3"
        },
        "language_info": {
            "codemirror_mode": {
                "name": "ipython",
                "version": 3
            },
            "file_extension": ".py",
            "mimetype": "text/x-python",
            "name": "python",
            "nbconvert_exporter": "python",
            "pygments_lexer": "ipython3",
            "version": "3.10.8"
        },
        "orig_nbformat": 4
    },
    "nbformat": 4,
    "nbformat_minor": 2
}